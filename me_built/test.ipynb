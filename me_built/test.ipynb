{
 "cells": [
  {
   "cell_type": "code",
   "execution_count": null,
   "id": "e7d95c18",
   "metadata": {},
   "outputs": [],
   "source": [
    "import ollama\n",
    "\n",
    "def add_two_numbers(a: int, b: int) -> int:\n",
    "    \"\"\"\n",
    "    Add two numbers\n",
    "\n",
    "    Args:\n",
    "        a: The first integer number\n",
    "        b: The second integer number\n",
    "\n",
    "    Returns:\n",
    "        int: The sum of the two numbers\n",
    "    \"\"\"\n",
    "    return a + b\n",
    "\n",
    "available_functions = {\n",
    "    'add_two_numbers': add_two_numbers,\n",
    "}\n",
    "\n",
    "response = ollama.chat(\n",
    "    'llama3.2',\n",
    "    messages=[{'role': 'user', 'content': 'What is 10 + 10?'}],\n",
    "    tools=[add_two_numbers], # Actual function reference\n",
    ")\n",
    "\n",
    "\n",
    "for tool in response.message.tool_calls or []:\n",
    "    function_to_call = available_functions.get(tool.function.name)\n",
    "    if function_to_call:\n",
    "        print('Function output:', function_to_call(**tool.function.arguments))\n",
    "    else:\n",
    "        print('Function not found:', tool.function.name)\n"
   ]
  },
  {
   "cell_type": "code",
   "execution_count": 1,
   "id": "36f8c3ba",
   "metadata": {},
   "outputs": [],
   "source": [
    "from selenium import webdriver\n",
    "import time \n",
    "\n",
    "\n",
    "def get_driver():\n",
    "    options = webdriver.FirefoxOptions()\n",
    "    # options.add_argument(\"--headless\")\n",
    "    driver = webdriver.Firefox(options=options)\n",
    "    return driver\n",
    "\n",
    "driver = get_driver()\n",
    "\n",
    "driver.get(\"https://duckduckgo.com\")\n",
    "\n",
    "with open(\"example.html\", \"w\", encoding=\"utf-8\") as f:\n",
    "    f.write(driver.page_source)\n",
    "\n",
    "time.sleep(1)\n",
    "driver.quit()"
   ]
  },
  {
   "cell_type": "code",
   "execution_count": 1,
   "id": "225c321f",
   "metadata": {},
   "outputs": [],
   "source": [
    "from browser_actions import SeleniumController, BrowserPatterns\n",
    "\n",
    "controller = SeleniumController()\n",
    "# patterns = BrowserPatterns()\n",
    "\n"
   ]
  },
  {
   "cell_type": "code",
   "execution_count": 2,
   "id": "42903e9a",
   "metadata": {},
   "outputs": [
    {
     "ename": "AttributeError",
     "evalue": "'WebDriver' object has no attribute 'text'",
     "output_type": "error",
     "traceback": [
      "\u001b[1;31m---------------------------------------------------------------------------\u001b[0m",
      "\u001b[1;31mAttributeError\u001b[0m                            Traceback (most recent call last)",
      "Cell \u001b[1;32mIn[2], line 17\u001b[0m\n\u001b[0;32m     14\u001b[0m     driver\u001b[38;5;241m.\u001b[39mget(\u001b[38;5;124m\"\u001b[39m\u001b[38;5;124mhttps://duckduckgo.com?q=\u001b[39m\u001b[38;5;124m\"\u001b[39m \u001b[38;5;241m+\u001b[39m query)\n\u001b[0;32m     15\u001b[0m     \u001b[38;5;28;01mreturn\u001b[39;00m driver\u001b[38;5;241m.\u001b[39mtext\n\u001b[1;32m---> 17\u001b[0m \u001b[38;5;28mprint\u001b[39m(web_search(\u001b[38;5;124m\"\u001b[39m\u001b[38;5;124mpython automation\u001b[39m\u001b[38;5;124m\"\u001b[39m))\n",
      "Cell \u001b[1;32mIn[2], line 15\u001b[0m, in \u001b[0;36mweb_search\u001b[1;34m(query)\u001b[0m\n\u001b[0;32m     13\u001b[0m \u001b[38;5;28;01mdef\u001b[39;00m \u001b[38;5;21mweb_search\u001b[39m(query: \u001b[38;5;28mstr\u001b[39m):\n\u001b[0;32m     14\u001b[0m     driver\u001b[38;5;241m.\u001b[39mget(\u001b[38;5;124m\"\u001b[39m\u001b[38;5;124mhttps://duckduckgo.com?q=\u001b[39m\u001b[38;5;124m\"\u001b[39m \u001b[38;5;241m+\u001b[39m query)\n\u001b[1;32m---> 15\u001b[0m     \u001b[38;5;28;01mreturn\u001b[39;00m driver\u001b[38;5;241m.\u001b[39mtext\n",
      "\u001b[1;31mAttributeError\u001b[0m: 'WebDriver' object has no attribute 'text'"
     ]
    }
   ],
   "source": [
    "from selenium import webdriver\n",
    "import time \n",
    "\n",
    "\n",
    "def get_driver():\n",
    "    options = webdriver.FirefoxOptions()\n",
    "    # options.add_argument(\"--headless\")\n",
    "    driver = webdriver.Firefox(options=options)\n",
    "    return driver\n",
    "\n",
    "driver = get_driver()\n",
    "\n",
    "def web_search(query: str):\n",
    "    driver.get(\"https://duckduckgo.com?q=\" + query)\n",
    "    return driver.text\n",
    "\n",
    "print(web_search(\"python automation\"))"
   ]
  },
  {
   "cell_type": "code",
   "execution_count": null,
   "id": "afc2796e",
   "metadata": {},
   "outputs": [],
   "source": [
    "\n",
    "\n",
    "\n"
   ]
  },
  {
   "cell_type": "code",
   "execution_count": null,
   "id": "e986a2d2",
   "metadata": {},
   "outputs": [],
   "source": []
  },
  {
   "cell_type": "code",
   "execution_count": null,
   "id": "3d342854",
   "metadata": {},
   "outputs": [],
   "source": [
    "from bs4 import BeautifulSoup\n",
    "\n",
    "soup = BeautifulSoup(html, \"html.parser\")\n",
    "\n",
    "# Remove unwanted tags\n",
    "for tag in soup([\"script\", \"style\", \"header\", \"footer\", \"nav\", \"aside\"]):\n",
    "    tag.decompose()\n",
    "\n",
    "# Extract visible text\n",
    "visible_text = \" \".join(soup.stripped_strings)\n",
    "\n",
    "print(visible_text)\n"
   ]
  }
 ],
 "metadata": {
  "kernelspec": {
   "display_name": "base",
   "language": "python",
   "name": "python3"
  },
  "language_info": {
   "codemirror_mode": {
    "name": "ipython",
    "version": 3
   },
   "file_extension": ".py",
   "mimetype": "text/x-python",
   "name": "python",
   "nbconvert_exporter": "python",
   "pygments_lexer": "ipython3",
   "version": "3.11.7"
  }
 },
 "nbformat": 4,
 "nbformat_minor": 5
}
